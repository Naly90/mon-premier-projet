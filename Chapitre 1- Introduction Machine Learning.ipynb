{
 "cells": [
  {
   "cell_type": "markdown",
   "metadata": {},
   "source": [
    "# Chapitre 1 : Introduction au Machine Learning "
   ]
  },
  {
   "cell_type": "markdown",
   "metadata": {},
   "source": [
    "## I- Généralités"
   ]
  },
  {
   "cell_type": "markdown",
   "metadata": {},
   "source": [
    "### I.1. Définition "
   ]
  },
  {
   "cell_type": "markdown",
   "metadata": {},
   "source": [
    "\" A computer program is said to learn from experience E  with respect to some class of tasks T and performance measure P, if its performance at the tasks improves with the experiences.\" (Mitchell, 1997)"
   ]
  },
  {
   "cell_type": "markdown",
   "metadata": {},
   "source": [
    "**Exemple**:\n",
    "\n",
    "* Tache T : Classifier des emails reçus durant une journée\n",
    "* Performance P : Taux de rejet correct des spams par S\n",
    "* Expérience E : 1 semaine d'exposition aux courriels d’un utilisateur"
   ]
  },
  {
   "cell_type": "markdown",
   "metadata": {},
   "source": [
    "### I.2. Types d'apprentissage"
   ]
  },
  {
   "cell_type": "markdown",
   "metadata": {},
   "source": [
    "* Apprentissage supervisé:\n",
    "   * Apprentissage sur un ensemble d’exemples étiquetés (xi, yi)\n",
    "\n",
    "\n",
    "* Apprentissage non supervisé :\n",
    "  * Apprentissage sur un ensemble d’exemples non étiquetés xi (cf. clustering)\n",
    "\n",
    "\n",
    "* Apprentissage semi-supervisé :\n",
    "  * Apprentissage sur un ensemble d’exemples étiquetés / non étiquetés\n",
    "  \n",
    "\n",
    "* Apprentissage par renforcement :\n",
    "   * Apprentissage où les actions sur l’environnement se mesurent par une récompense"
   ]
  },
  {
   "cell_type": "markdown",
   "metadata": {},
   "source": [
    "### I.3. Les algorithmes"
   ]
  },
  {
   "cell_type": "markdown",
   "metadata": {},
   "source": [
    "Les algorithmes ne sont pas tous destinés aux mêmes usages. On les classe usuellement selon deux composantes:\n",
    "\n",
    "* Le mode d'apprentissage : on distingue les algorithmes supervisés des algorithmes non supervisés\n",
    "* Le type de problème à traiter : on distingue les algorithmes de régression  de ceux de classification."
   ]
  },
  {
   "cell_type": "markdown",
   "metadata": {},
   "source": [
    "**Exemples d'algorithmes:** Régression linéaire uni/multivariée, Régression polynomiale, Régression régularisée, Naive Bayes, Regression logistique, Clustering hiérarchique, Clustering non hiérarchique, Arbres de décision, Forêt aléatoire, SVM, etc."
   ]
  },
  {
   "cell_type": "markdown",
   "metadata": {},
   "source": [
    "## II. Les Algorithmes de base"
   ]
  },
  {
   "cell_type": "markdown",
   "metadata": {},
   "source": [
    "#### II.1. Algorithmes des K-plus proches voisins (k Nearest Neighbors – kNN)"
   ]
  },
  {
   "cell_type": "markdown",
   "metadata": {},
   "source": [
    "L’algorithme des k plus proches voisins est un algorithme d’apprentissage supervisé, il est nécessaire d’avoir des données labellisées. À partir d’un ensemble E de données labellisées, il sera possible de classer (déterminer le label) d’une nouvelle donnée (donnée n’appartenant pas à E). "
   ]
  },
  {
   "cell_type": "markdown",
   "metadata": {},
   "source": [
    "**L’algorithme kNN**\n",
    "1. Charger les données\n",
    "2. Initialiser k au nombre de plus proches voisins choisi\n",
    "3. Pour chaque exemple dans les données:\n",
    "  * Calculer la distance entre notre requête et l’observation itérative actuelle de la boucle depuis les données.\n",
    "  * Ajouter la distance et l’indice de l’observation concernée à une collection ordonnée de données\n",
    "4. Trier cette collection ordonnée contenant distances et indices de la plus petite distance à la plus grande (dans ordre croissant).\n",
    "5. Sélectionner les k premières entrées de la collection de données triées (équivalent aux k plus proches voisins)\n",
    "6. Obtenir les étiquettes des k entrées sélectionnées\n",
    "7. Si régression, retourner la moyenne des k étiquettes\n",
    "8. Si classification, retourner le mode (valeur la plus fréquente/commune) des k étiquettes"
   ]
  },
  {
   "cell_type": "markdown",
   "metadata": {},
   "source": [
    "#### Exemple d'étude"
   ]
  },
  {
   "cell_type": "markdown",
   "metadata": {},
   "source": [
    "**Les données** :  AirBnB\n",
    "* `host_response_rate`: le taux de réponse de l'hôte\n",
    "* `host_acceptance_rate`: nombre de requêtes à l'hôte qui se convertissent en locations\n",
    "* `host_listings_count`: nombre d'autres listes que possède l'hôte \n",
    "* `latitude`:  latitude des coordonnées géographiques\n",
    "* `longitude`: longitude des coordonnées\n",
    "* `city`: la ville dans laquelle réside l'espace de vie\n",
    "* `zipcode`: le code postal de la pièce\n",
    "* `state`: l'Etat dans lequel réside l'espace \n",
    "* `accommodates`: le nombre de personnes pouvant être accueillies\n",
    "* `room_type`: le type d'espace de vie (chambre privée, chambre partagée ou maison / appartement entier\n",
    "* `bedrooms`: nombre de chambres incluses dans la location\n",
    "* `bathrooms`: nombre de salles de bain comprises dans la location\n",
    "* `beds`: nombre de lits inclus dans la location\n",
    "* `price`: prix par nuit pour la location\n",
    "* `cleaning_fee`: frais supplémentaires utilisés pour nettoyer  après le départ du client\n",
    "* `security_deposit`: dépôt de garantie remboursable, en cas de dommages\n",
    "* `minimum_nights`: nombre minimum de nuits qu'un invité peut rester pour la location\n",
    "* `maximum_nights`: nombre maximum de nuits qu'un invité peut rester pour la location\n",
    "* `number_of_reviews`: nombre d'avis que les clients précédents ont laissés\n"
   ]
  },
  {
   "cell_type": "code",
   "execution_count": 1,
   "metadata": {},
   "outputs": [
    {
     "data": {
      "text/html": [
       "<div>\n",
       "<style scoped>\n",
       "    .dataframe tbody tr th:only-of-type {\n",
       "        vertical-align: middle;\n",
       "    }\n",
       "\n",
       "    .dataframe tbody tr th {\n",
       "        vertical-align: top;\n",
       "    }\n",
       "\n",
       "    .dataframe thead th {\n",
       "        text-align: right;\n",
       "    }\n",
       "</style>\n",
       "<table border=\"1\" class=\"dataframe\">\n",
       "  <thead>\n",
       "    <tr style=\"text-align: right;\">\n",
       "      <th></th>\n",
       "      <th>host_response_rate</th>\n",
       "      <th>host_acceptance_rate</th>\n",
       "      <th>host_listings_count</th>\n",
       "      <th>accommodates</th>\n",
       "      <th>room_type</th>\n",
       "      <th>bedrooms</th>\n",
       "      <th>bathrooms</th>\n",
       "      <th>beds</th>\n",
       "      <th>price</th>\n",
       "      <th>cleaning_fee</th>\n",
       "      <th>security_deposit</th>\n",
       "      <th>minimum_nights</th>\n",
       "      <th>maximum_nights</th>\n",
       "      <th>number_of_reviews</th>\n",
       "      <th>latitude</th>\n",
       "      <th>longitude</th>\n",
       "      <th>city</th>\n",
       "      <th>zipcode</th>\n",
       "      <th>state</th>\n",
       "    </tr>\n",
       "  </thead>\n",
       "  <tbody>\n",
       "    <tr>\n",
       "      <th>0</th>\n",
       "      <td>92%</td>\n",
       "      <td>91%</td>\n",
       "      <td>26</td>\n",
       "      <td>4</td>\n",
       "      <td>Entire home/apt</td>\n",
       "      <td>1.0</td>\n",
       "      <td>1.0</td>\n",
       "      <td>2.0</td>\n",
       "      <td>$160.00</td>\n",
       "      <td>$115.00</td>\n",
       "      <td>$100.00</td>\n",
       "      <td>1</td>\n",
       "      <td>1125</td>\n",
       "      <td>0</td>\n",
       "      <td>38.890046</td>\n",
       "      <td>-77.002808</td>\n",
       "      <td>Washington</td>\n",
       "      <td>20003</td>\n",
       "      <td>DC</td>\n",
       "    </tr>\n",
       "    <tr>\n",
       "      <th>1</th>\n",
       "      <td>90%</td>\n",
       "      <td>100%</td>\n",
       "      <td>1</td>\n",
       "      <td>6</td>\n",
       "      <td>Entire home/apt</td>\n",
       "      <td>3.0</td>\n",
       "      <td>3.0</td>\n",
       "      <td>3.0</td>\n",
       "      <td>$350.00</td>\n",
       "      <td>$100.00</td>\n",
       "      <td>NaN</td>\n",
       "      <td>2</td>\n",
       "      <td>30</td>\n",
       "      <td>65</td>\n",
       "      <td>38.880413</td>\n",
       "      <td>-76.990485</td>\n",
       "      <td>Washington</td>\n",
       "      <td>20003</td>\n",
       "      <td>DC</td>\n",
       "    </tr>\n",
       "    <tr>\n",
       "      <th>2</th>\n",
       "      <td>90%</td>\n",
       "      <td>100%</td>\n",
       "      <td>2</td>\n",
       "      <td>1</td>\n",
       "      <td>Private room</td>\n",
       "      <td>1.0</td>\n",
       "      <td>2.0</td>\n",
       "      <td>1.0</td>\n",
       "      <td>$50.00</td>\n",
       "      <td>NaN</td>\n",
       "      <td>NaN</td>\n",
       "      <td>2</td>\n",
       "      <td>1125</td>\n",
       "      <td>1</td>\n",
       "      <td>38.955291</td>\n",
       "      <td>-76.986006</td>\n",
       "      <td>Hyattsville</td>\n",
       "      <td>20782</td>\n",
       "      <td>MD</td>\n",
       "    </tr>\n",
       "    <tr>\n",
       "      <th>3</th>\n",
       "      <td>100%</td>\n",
       "      <td>NaN</td>\n",
       "      <td>1</td>\n",
       "      <td>2</td>\n",
       "      <td>Private room</td>\n",
       "      <td>1.0</td>\n",
       "      <td>1.0</td>\n",
       "      <td>1.0</td>\n",
       "      <td>$95.00</td>\n",
       "      <td>NaN</td>\n",
       "      <td>NaN</td>\n",
       "      <td>1</td>\n",
       "      <td>1125</td>\n",
       "      <td>0</td>\n",
       "      <td>38.872134</td>\n",
       "      <td>-77.019639</td>\n",
       "      <td>Washington</td>\n",
       "      <td>20024</td>\n",
       "      <td>DC</td>\n",
       "    </tr>\n",
       "    <tr>\n",
       "      <th>4</th>\n",
       "      <td>92%</td>\n",
       "      <td>67%</td>\n",
       "      <td>1</td>\n",
       "      <td>4</td>\n",
       "      <td>Entire home/apt</td>\n",
       "      <td>1.0</td>\n",
       "      <td>1.0</td>\n",
       "      <td>1.0</td>\n",
       "      <td>$50.00</td>\n",
       "      <td>$15.00</td>\n",
       "      <td>$450.00</td>\n",
       "      <td>7</td>\n",
       "      <td>1125</td>\n",
       "      <td>0</td>\n",
       "      <td>38.996382</td>\n",
       "      <td>-77.041541</td>\n",
       "      <td>Silver Spring</td>\n",
       "      <td>20910</td>\n",
       "      <td>MD</td>\n",
       "    </tr>\n",
       "  </tbody>\n",
       "</table>\n",
       "</div>"
      ],
      "text/plain": [
       "  host_response_rate host_acceptance_rate  host_listings_count  accommodates  \\\n",
       "0                92%                  91%                   26             4   \n",
       "1                90%                 100%                    1             6   \n",
       "2                90%                 100%                    2             1   \n",
       "3               100%                  NaN                    1             2   \n",
       "4                92%                  67%                    1             4   \n",
       "\n",
       "         room_type  bedrooms  bathrooms  beds    price cleaning_fee  \\\n",
       "0  Entire home/apt       1.0        1.0   2.0  $160.00      $115.00   \n",
       "1  Entire home/apt       3.0        3.0   3.0  $350.00      $100.00   \n",
       "2     Private room       1.0        2.0   1.0   $50.00          NaN   \n",
       "3     Private room       1.0        1.0   1.0   $95.00          NaN   \n",
       "4  Entire home/apt       1.0        1.0   1.0   $50.00       $15.00   \n",
       "\n",
       "  security_deposit  minimum_nights  maximum_nights  number_of_reviews  \\\n",
       "0          $100.00               1            1125                  0   \n",
       "1              NaN               2              30                 65   \n",
       "2              NaN               2            1125                  1   \n",
       "3              NaN               1            1125                  0   \n",
       "4          $450.00               7            1125                  0   \n",
       "\n",
       "    latitude  longitude           city zipcode state  \n",
       "0  38.890046 -77.002808     Washington   20003    DC  \n",
       "1  38.880413 -76.990485     Washington   20003    DC  \n",
       "2  38.955291 -76.986006    Hyattsville   20782    MD  \n",
       "3  38.872134 -77.019639     Washington   20024    DC  \n",
       "4  38.996382 -77.041541  Silver Spring   20910    MD  "
      ]
     },
     "execution_count": 1,
     "metadata": {},
     "output_type": "execute_result"
    }
   ],
   "source": [
    "import pandas as pd\n",
    "dc_listings = pd.read_csv('dc_airbnb.csv')\n",
    "dc_listings.head()\n",
    "#print(dc_listings.loc[0])"
   ]
  },
  {
   "cell_type": "markdown",
   "metadata": {},
   "source": [
    "**Position du Problème :** \n",
    "\n",
    "Un des défis auxquels sont confrontés les propriétaires qui cherchent à louer leur maison est de déterminer le prix optimal de location  par nuit. Dans de nombreux domaines, les locataires sont présentés avec une bonne sélection d'annonces et peuvent filtrer sur des critères tels que le prix, le nombre de chambres, le type de chambre et plus encore. Étant donné qu'AirBnB est un marché, le montant qu'un  propriétaire  peut facturer chaque nuit est étroitement lié à la dynamique du marché. "
   ]
  },
  {
   "cell_type": "markdown",
   "metadata": {},
   "source": [
    "En tant que  propriétaire, si nous essayons de facturer au-dessus du prix du marché pour une maison que nous aimerions faire louer, les locataires choisiront des alternatives plus abordables similaires aux nôtres. Si nous fixons notre prix de location à la nuit trop bas, nous manquerons de revenus potentiels.\n",
    "\n",
    "Une **stratégie** que nous pourrions utiliser est de:\n",
    "\n",
    " * trouver quelques annonces similaires aux nôtres,\n",
    " * Calculer la moyenne du prix indiqué pour ceux qui ressemblent le plus au nôtre,\n",
    " * fixer notre prix à ce prix moyen calculé.\n",
    "\n",
    "Cette stratégie est celle de **K- plus proches voisins**. Deux choix sont à opérer:\n",
    "\n",
    "* La mesure de similarité\n",
    "* Le choix de k\n"
   ]
  },
  {
   "cell_type": "markdown",
   "metadata": {},
   "source": [
    "La **distance euclidienne** est utilisée pour établir la similarité. "
   ]
  },
  {
   "cell_type": "markdown",
   "metadata": {},
   "source": [
    "**Calcul de la distance pour la première observation**"
   ]
  },
  {
   "cell_type": "code",
   "execution_count": 2,
   "metadata": {},
   "outputs": [
    {
     "name": "stdout",
     "output_type": "stream",
     "text": [
      "1\n"
     ]
    }
   ],
   "source": [
    "import numpy as np\n",
    "our_acc_value = 3\n",
    "first_living_space_value = dc_listings.loc[0]['accommodates']\n",
    "first_distance = np.abs(first_living_space_value - our_acc_value)\n",
    "print(first_distance)"
   ]
  },
  {
   "cell_type": "markdown",
   "metadata": {},
   "source": [
    "**Calcul pour toutes les observations**"
   ]
  },
  {
   "cell_type": "code",
   "execution_count": 3,
   "metadata": {},
   "outputs": [
    {
     "name": "stdout",
     "output_type": "stream",
     "text": [
      "1     2294\n",
      "2      503\n",
      "0      461\n",
      "3      279\n",
      "5       73\n",
      "4       35\n",
      "7       22\n",
      "6       17\n",
      "9       12\n",
      "13       8\n",
      "8        7\n",
      "12       6\n",
      "11       4\n",
      "10       2\n",
      "Name: distance, dtype: int64\n"
     ]
    }
   ],
   "source": [
    "new_listing = 3\n",
    "dc_listings['distance'] = dc_listings['accommodates'].apply(lambda x: np.abs(x - new_listing))\n",
    "print(dc_listings['distance'].value_counts())"
   ]
  },
  {
   "cell_type": "code",
   "execution_count": 4,
   "metadata": {},
   "outputs": [
    {
     "name": "stdout",
     "output_type": "stream",
     "text": [
      "26      3\n",
      "34      3\n",
      "36      3\n",
      "40      3\n",
      "44      3\n",
      "       ..\n",
      "3675    3\n",
      "3697    3\n",
      "3707    3\n",
      "3714    3\n",
      "3722    3\n",
      "Name: accommodates, Length: 461, dtype: int64\n"
     ]
    }
   ],
   "source": [
    "print(dc_listings[dc_listings[\"distance\"] == 0][\"accommodates\"])"
   ]
  },
  {
   "cell_type": "markdown",
   "metadata": {},
   "source": [
    "Le choix des k plus proches voisins est influencé dans ce cas par l'ordre d'apparition dans la base. Pour un choix aléatoire, on a:"
   ]
  },
  {
   "cell_type": "code",
   "execution_count": 5,
   "metadata": {},
   "outputs": [
    {
     "name": "stdout",
     "output_type": "stream",
     "text": [
      "577     $185.00\n",
      "2166    $180.00\n",
      "3631    $175.00\n",
      "71      $128.00\n",
      "1011    $115.00\n",
      "380     $219.00\n",
      "943     $125.00\n",
      "3107    $250.00\n",
      "1499     $94.00\n",
      "625     $150.00\n",
      "Name: price, dtype: object\n"
     ]
    }
   ],
   "source": [
    "import numpy as np\n",
    "np.random.seed(1)\n",
    "dc_listings = dc_listings.loc[np.random.permutation(len(dc_listings))]\n",
    "dc_listings = dc_listings.sort_values('distance')\n",
    "print(dc_listings.iloc[0:10]['price'])"
   ]
  },
  {
   "cell_type": "markdown",
   "metadata": {},
   "source": [
    "**Nettoyage de la colonne `price`** : enlever la virgule, le symbole dollar, transformer en floattant."
   ]
  },
  {
   "cell_type": "code",
   "execution_count": 6,
   "metadata": {},
   "outputs": [
    {
     "name": "stdout",
     "output_type": "stream",
     "text": [
      "156.6\n"
     ]
    }
   ],
   "source": [
    "stripped_commas = dc_listings['price'].str.replace(',', '')\n",
    "stripped_dollars = stripped_commas.str.replace('$', '')\n",
    "dc_listings['price'] = stripped_dollars.astype('float')\n",
    "mean_price = dc_listings.iloc[0:5]['price'].mean()\n",
    "print(mean_price)"
   ]
  },
  {
   "cell_type": "markdown",
   "metadata": {},
   "source": [
    "**Quelques éléments de syntaxe**\n",
    "\n",
    "* Randomiser l'ordre d'un DataFrame:\n",
    "\n",
    "`import numpy as np\n",
    "np.random.seed(1)\n",
    "np.random.permutation(len(dc_listings))`\n",
    "\n",
    "* Mélange de DataFrame:\n",
    "\n",
    "`dc_listings = dc_listings.loc[np.random.permutation(len(dc_listings))]`\n",
    "\n",
    "* Applying string methods to replace a comma with an empty character:\n",
    "\n",
    "`stripped_commas = dc_listings['price'].str.replace(',', '')`\n",
    "\n",
    "* Conversion des objets Series en float:\n",
    "\n",
    "`dc_listings['price'] = dc_listings['price'].astype('float')`"
   ]
  },
  {
   "cell_type": "markdown",
   "metadata": {},
   "source": [
    "**Exercice**:\n",
    "\n",
    "Écrire une fonction plus générale qui peut suggérer le prix optimal pour d'autres valeurs de la colonne `accommodates`. Le Dataframe `dc_listings` contient des informations spécifiques à notre espace de vie, par ex. la colonne `distance`.\n",
    "\n",
    "Pour cela : \n",
    "\n",
    "* Ecrire une fonction nommée `predict_price` qui peut utiliser la technique d'apprentissage automatique des k plus proches voisins pour calculer le prix suggéré pour toute valeur de `accommodates`. \n",
    "\n",
    "Cette fonction doit:\n",
    "* Prendre un seul paramètre, `new_listing`, qui décrit le nombre de chambres.\n",
    "* Ajouter du code qui attribue `dc_listings` à un nouveau Dataframe nommé `temp_df`. Nous avons utilisé la méthode `pandas.DataFrame.copy()` afin que le dataframe sous-jacent soit affecté à `temp_df`, au lieu d'une simple référence à `dc_listings`.\n",
    "* Calculer la distance entre chaque valeur de la colonne `accommodates` et la valeur `new_listing` qui a été transmise. Affectez l'objet Series résultant à la colonne `distance` dans `temp_df`.\n",
    "* Trier `temp_df` par la colonne  `distance` et sélectionner les 5 premières valeurs dans la colonne `price`. Ne randomisez pas l'ordre de `temp_df`.\n",
    "* Calculer la moyenne de ces 5 valeurs et l'utiliser comme valeur de retour pour l'ensemble de la fonction `predict_price`.\n",
    "* Utiliser la fonction `predict_price` pour suggérer un prix pour un espace de vie qui:\n",
    "    * accueille 1 personne, attribuer le prix suggéré à `acc_one`.\n",
    "    * peut accueillir 2 personnes, attribuer le prix suggéré à `acc_two`.\n",
    "    * accueille 4 personnes, attribuer le prix suggéré à `acc_four`.\n",
    "\n"
   ]
  },
  {
   "cell_type": "code",
   "execution_count": 7,
   "metadata": {},
   "outputs": [
    {
     "name": "stdout",
     "output_type": "stream",
     "text": [
      "68.0\n",
      "112.8\n",
      "156.6\n",
      "124.8\n"
     ]
    }
   ],
   "source": [
    "import numpy as np\n",
    "np.random.seed(1)\n",
    "dc_listings = pd.read_csv('dc_airbnb.csv')\n",
    "stripped_commas = dc_listings['price'].str.replace(',', '')\n",
    "stripped_dollars = stripped_commas.str.replace('$', '')\n",
    "dc_listings['price'] = stripped_dollars.astype('float')\n",
    "dc_listings = dc_listings.loc[np.random.permutation(len(dc_listings))]\n",
    "\n",
    "def predict_price(new_listing):\n",
    "    temp_df = dc_listings.copy()\n",
    "    temp_df['distance'] = temp_df['accommodates'].apply(lambda x: np.abs(x - new_listing))\n",
    "    temp_df = temp_df.sort_values('distance')\n",
    "    nearest_neighbors = temp_df.iloc[0:5]['price']\n",
    "    predicted_price = nearest_neighbors.mean()\n",
    "    return(predicted_price)\n",
    "acc_one = predict_price(1)\n",
    "acc_two = predict_price(2)\n",
    "acc_three = predict_price(3)\n",
    "acc_four = predict_price(4)\n",
    "print(acc_one)\n",
    "print(acc_two)\n",
    "print(acc_three)\n",
    "print(acc_four)"
   ]
  },
  {
   "cell_type": "markdown",
   "metadata": {},
   "source": [
    "### II. 1.1. Evaluation du modèle"
   ]
  },
  {
   "cell_type": "markdown",
   "metadata": {},
   "source": [
    "Un moyen simple de tester la qualité du modèle est de:\n",
    "\n",
    "   * diviser le jeu de données en 2 partitions:\n",
    "       * l'ensemble d'apprentissage: contient la majorité des lignes (75%)\n",
    "       * l'ensemble de test: contient la minorité restante des lignes (25%)\n",
    "\n",
    "   * utiliser les lignes de l'ensemble d'apprentissage pour prédire la valeur de prix des lignes de l'ensemble de test\n",
    "        * ajouter une nouvelle colonne nommée `predicted_price` à l'ensemble de test\n",
    "   * comparer les valeurs `predicted_price` avec les valeurs de prix réelles dans l'ensemble de test pour voir la précision des valeurs prévues.\n"
   ]
  },
  {
   "cell_type": "markdown",
   "metadata": {},
   "source": [
    "### II.1.2. Cas Multivarié\n",
    "\n",
    "On adapte le calcul de la métrique au cas multivarié. "
   ]
  },
  {
   "cell_type": "markdown",
   "metadata": {},
   "source": [
    "### II.1.3. La bibliothèque  scikit-learn"
   ]
  },
  {
   "cell_type": "markdown",
   "metadata": {},
   "source": [
    "Scikit-learn  fonctionne en 4 étapes principales:\n",
    "\n",
    "* instancier le modèle de machine learning spécifique que l'on souhaite utiliser\n",
    "* adapter le modèle aux données d'entraînement\n",
    "* utiliser le modèle pour faire des prédictions\n",
    "* évaluer l'exactitude des prédictions"
   ]
  },
  {
   "cell_type": "code",
   "execution_count": 8,
   "metadata": {},
   "outputs": [],
   "source": [
    "from sklearn.neighbors import KNeighborsRegressor\n",
    "knn = KNeighborsRegressor()"
   ]
  },
  {
   "cell_type": "code",
   "execution_count": 9,
   "metadata": {},
   "outputs": [
    {
     "name": "stdout",
     "output_type": "stream",
     "text": [
      "<class 'pandas.core.frame.DataFrame'>\n",
      "Int64Index: 3723 entries, 574 to 1061\n",
      "Data columns (total 19 columns):\n",
      " #   Column                Non-Null Count  Dtype  \n",
      "---  ------                --------------  -----  \n",
      " 0   host_response_rate    3289 non-null   object \n",
      " 1   host_acceptance_rate  3109 non-null   object \n",
      " 2   host_listings_count   3723 non-null   int64  \n",
      " 3   accommodates          3723 non-null   int64  \n",
      " 4   room_type             3723 non-null   object \n",
      " 5   bedrooms              3702 non-null   float64\n",
      " 6   bathrooms             3696 non-null   float64\n",
      " 7   beds                  3712 non-null   float64\n",
      " 8   price                 3723 non-null   float64\n",
      " 9   cleaning_fee          2335 non-null   object \n",
      " 10  security_deposit      1426 non-null   object \n",
      " 11  minimum_nights        3723 non-null   int64  \n",
      " 12  maximum_nights        3723 non-null   int64  \n",
      " 13  number_of_reviews     3723 non-null   int64  \n",
      " 14  latitude              3723 non-null   float64\n",
      " 15  longitude             3723 non-null   float64\n",
      " 16  city                  3723 non-null   object \n",
      " 17  zipcode               3714 non-null   object \n",
      " 18  state                 3723 non-null   object \n",
      "dtypes: float64(6), int64(5), object(8)\n",
      "memory usage: 581.7+ KB\n",
      "None\n"
     ]
    }
   ],
   "source": [
    "import pandas as pd\n",
    "import numpy as np\n",
    "np.random.seed(1)\n",
    "\n",
    "dc_listings = pd.read_csv('dc_airbnb.csv')\n",
    "dc_listings = dc_listings.loc[np.random.permutation(len(dc_listings))]\n",
    "stripped_commas = dc_listings['price'].str.replace(',', '')\n",
    "stripped_dollars = stripped_commas.str.replace('$', '')\n",
    "dc_listings['price'] = stripped_dollars.astype('float')\n",
    "\n",
    "print(dc_listings.info())"
   ]
  },
  {
   "cell_type": "markdown",
   "metadata": {},
   "source": [
    "**Nettoyer la base en enlevant des colonnes** "
   ]
  },
  {
   "cell_type": "markdown",
   "metadata": {},
   "source": [
    "Supprimez les 9 colonnes ci-desssous de  `dc_listings`:\n",
    "\n",
    "    * 3 contenant des valeurs non numériques\n",
    "    * 3 contenant des valeurs numériques mais non ordinales\n",
    "    * 3 décrivant l'hôte au lieu de l'espace de vie lui-même"
   ]
  },
  {
   "cell_type": "code",
   "execution_count": 10,
   "metadata": {},
   "outputs": [
    {
     "name": "stdout",
     "output_type": "stream",
     "text": [
      "accommodates            0\n",
      "bedrooms               21\n",
      "bathrooms              27\n",
      "beds                   11\n",
      "price                   0\n",
      "cleaning_fee         1388\n",
      "security_deposit     2297\n",
      "minimum_nights          0\n",
      "maximum_nights          0\n",
      "number_of_reviews       0\n",
      "dtype: int64\n"
     ]
    }
   ],
   "source": [
    "drop_columns = ['room_type', 'city', 'state', 'latitude', 'longitude', \n",
    "                'zipcode', 'host_response_rate', 'host_acceptance_rate', 'host_listings_count']\n",
    "dc_listings = dc_listings.drop(drop_columns, axis=1)\n",
    "#dc_listings\n",
    "print(dc_listings.isnull().sum())"
   ]
  },
  {
   "cell_type": "markdown",
   "metadata": {},
   "source": [
    "Parmi les colonnes restantes, 3 colonnes ont quelques valeurs manquantes (moins de 1% du nombre total de lignes):\n",
    "    \n",
    "   * `bedrooms`\n",
    "   * `bathrooms`\n",
    "   * `beds`\n",
    "\n",
    "Comme le nombre de lignes contenant des valeurs manquantes pour l'une de ces 3 colonnes est faible, nous pouvons sélectionner et supprimer ces lignes sans perdre beaucoup d'informations. Il existe également 2 colonnes contenant un grand nombre de valeurs manquantes:\n",
    "\n",
    "    `cleaning_fee` - 37,3% des lignes\n",
    "    `security_deposit` - 61,7% des lignes\n",
    "\n",
    "et nous ne pouvons pas les gérer facilement. Nous ne pouvons pas simplement supprimer les lignes contenant des valeurs manquantes pour ces 2 colonnes, car nous manquerions la majorité des observations de l'ensemble de données. Au lieu de cela, supprimons entièrement ces 2 colonnes de la considération."
   ]
  },
  {
   "cell_type": "markdown",
   "metadata": {},
   "source": [
    "### II.2. La régression linéaire"
   ]
  },
  {
   "cell_type": "markdown",
   "metadata": {},
   "source": [
    "####  Le jeu de données"
   ]
  },
  {
   "cell_type": "markdown",
   "metadata": {},
   "source": [
    "Pour nous familiariser avec cette approche d'apprentissage automatique, nous travaillerons avec un ensemble de données sur les maisons vendues à Ames, Iowa. Chaque ligne de l'ensemble de données décrit les propriétés d'une seule maison ainsi que le prix de vente. Le but est de créer des modèles qui prédisent le prix de vente final à partir de ses autres attributs. Plus précisément, nous explorerons les questions suivantes:\n",
    "\n",
    "* Quelles sont les propriétés d'une maison qui en affectent le plus le prix de vente final?\n",
    "* Avec quelle efficacité pouvons-nous prédire le prix de vente uniquement à partir de ces propriétés?\n",
    "\n",
    "Voici quelques-unes des colonnes:\n",
    "\n",
    " *  Lot Area: Superficie du terrain en pieds carrés.\n",
    " *  Overall Qual: évalue le matériau global et la finition de la maison.\n",
    " *  Overall Cond: évalue l'état général de la maison.\n",
    " * Year Built: date de construction d'origine.\n",
    " * Low Qual Fin SF Pieds carrés finis de qualité inférieure (tous les étages).\n",
    " * Full Bath: salles de bain complètes au-dessus du sol.\n",
    " * Fireplaces: Nombre de cheminées.\n",
    " \n",
    "Commençons par générer des ensembles d'apprentissage et de test."
   ]
  },
  {
   "cell_type": "code",
   "execution_count": 11,
   "metadata": {},
   "outputs": [],
   "source": [
    "import pandas as pd\n",
    "data = pd.read_csv('AmesHousing.txt', delimiter=\"\\t\")\n",
    "train = data[0:1460]\n",
    "test = data[1460:]\n",
    "\n",
    "#print(train.info())\n",
    "target = 'SalePrice'"
   ]
  },
  {
   "cell_type": "markdown",
   "metadata": {},
   "source": [
    "**Regression linéaire simple**"
   ]
  },
  {
   "cell_type": "markdown",
   "metadata": {},
   "source": [
    "Pour explorer les données :\n",
    "\n",
    "* Créer un graphique de dimensions 7 x 15 contenant trois nuages de points dans une seule colonne:\n",
    "   * Le premier construit la colonne `Garage Area` sur l'axe des x par rapport à la colonne `SalePrice` sur l'axe des y.\n",
    "   * Le second construit  la colonne `Gr Liv Area` sur l'axe des x par rapport à la colonne `SalePrice` sur l'axe des y.\n",
    "   * Le troisième construit la colonne `Overall Cond` sur l'axe des x par rapport à la colonne `SalePrice` sur l'axe des y."
   ]
  },
  {
   "cell_type": "code",
   "execution_count": 12,
   "metadata": {},
   "outputs": [
    {
     "data": {
      "image/png": "[encoded data removed]",
      "text/plain": [
       "<Figure size 504x1080 with 3 Axes>"
      ]
     },
     "metadata": {
      "needs_background": "light"
     },
     "output_type": "display_data"
    }
   ],
   "source": [
    "import matplotlib.pyplot as plt\n",
    "fig = plt.figure(figsize=(7,15))\n",
    "\n",
    "ax1 = fig.add_subplot(3, 1, 1)\n",
    "ax2 = fig.add_subplot(3, 1, 2)\n",
    "ax3 = fig.add_subplot(3, 1, 3)\n",
    "\n",
    "train.plot(x=\"Garage Area\", y=\"SalePrice\", ax=ax1, kind=\"scatter\")\n",
    "train.plot(x=\"Gr Liv Area\", y=\"SalePrice\", ax=ax2, kind=\"scatter\")\n",
    "train.plot(x=\"Overall Cond\", y=\"SalePrice\", ax=ax3, kind=\"scatter\")\n",
    "\n",
    "plt.show()"
   ]
  },
  {
   "cell_type": "markdown",
   "metadata": {},
   "source": [
    "**Les moindres carrés**"
   ]
  },
  {
   "cell_type": "markdown",
   "metadata": {},
   "source": [
    "Les graphiques montrent que `Gr Liv Area` est la plus corrélée `SalePrice`. Nous pouvons le confirmer en calculant la corrélation entre les paires de ces colonnes à l'aide de la méthode `pandas.DataFrame.corr()`."
   ]
  },
  {
   "cell_type": "code",
   "execution_count": 13,
   "metadata": {
    "scrolled": true
   },
   "outputs": [
    {
     "name": "stdout",
     "output_type": "stream",
     "text": [
      "              Garage Area  Gr Liv Area  Overall Cond  SalePrice\n",
      "Garage Area      1.000000     0.465366     -0.132401   0.662397\n",
      "Gr Liv Area      0.465366     1.000000     -0.133710   0.698990\n",
      "Overall Cond    -0.132401    -0.133710      1.000000  -0.099395\n",
      "SalePrice        0.662397     0.698990     -0.099395   1.000000\n"
     ]
    }
   ],
   "source": [
    "print(train[['Garage Area', 'Gr Liv Area', 'Overall Cond', 'SalePrice']].corr())"
   ]
  },
  {
   "cell_type": "code",
   "execution_count": 14,
   "metadata": {},
   "outputs": [],
   "source": [
    "#Saleprice = a1 ∗ Gr Liv Area + a0"
   ]
  },
  {
   "cell_type": "markdown",
   "metadata": {},
   "source": [
    "Utilisons maintenant scikit-learn pour trouver les valeurs de paramètres optimales pour notre modèle. La bibliothèque scikit-learn a été conçue pour échanger et essayer facilement différents modèles. Parce que nous sommes familiers avec le flux de travail scikit-learn pour les k  plus proches voisins, le passage à l'utilisation de la régression linéaire est simple.\n",
    "\n",
    "Au lieu de travailler avec la classe `sklearn.neighbors.KNeighborsRegressors`, nous travaillons avec la classe `sklearn.linear_model.LinearRegression`. La classe `LinearRegression` a également sa propre méthode `fit()`. Cependant, les attributs `coef_ ` et `intercept_`  sont spécifiques à ce modèle, qui renvoient a1 et a0."
   ]
  },
  {
   "cell_type": "code",
   "execution_count": 15,
   "metadata": {
    "scrolled": true
   },
   "outputs": [
    {
     "name": "stdout",
     "output_type": "stream",
     "text": [
      "[116.86624683]\n",
      "5366.821710056043\n"
     ]
    }
   ],
   "source": [
    "from sklearn.linear_model import LinearRegression\n",
    "lr = LinearRegression()\n",
    "lr.fit(train[['Gr Liv Area']], train['SalePrice'])\n",
    "print(lr.coef_)\n",
    "print(lr.intercept_)\n",
    "\n",
    "a0 = lr.intercept_\n",
    "a1 = lr.coef_"
   ]
  },
  {
   "cell_type": "markdown",
   "metadata": {},
   "source": [
    "**Le modèle** : y=116.86624683x1+5366.82171006"
   ]
  },
  {
   "cell_type": "markdown",
   "metadata": {},
   "source": [
    "Nous pouvons maintenant utiliser la méthode `predict()` pour prédire les étiquettes à l'aide des données d'entraînement et les comparer avec les étiquettes réelles. \n",
    "\n",
    "Pour mesurer l'ajustement, nous pouvons utiliser l'erreur quadratique moyenne (MSE). Effectuons également une validation simple en faisant des prédictions sur l'ensemble de test et calculons également la valeur MSE pour ces prédictions."
   ]
  },
  {
   "cell_type": "code",
   "execution_count": 16,
   "metadata": {},
   "outputs": [
    {
     "name": "stdout",
     "output_type": "stream",
     "text": [
      "56034.362001412796\n",
      "57088.25161263909\n"
     ]
    }
   ],
   "source": [
    "import numpy as np\n",
    "\n",
    "lr = LinearRegression()\n",
    "lr.fit(train[['Gr Liv Area']], train['SalePrice'])\n",
    "\n",
    "from sklearn.metrics import mean_squared_error\n",
    "\n",
    "train_predictions = lr.predict(train[['Gr Liv Area']])\n",
    "test_predictions = lr.predict(test[['Gr Liv Area']])\n",
    "\n",
    "train_mse = mean_squared_error(train_predictions, train['SalePrice'])\n",
    "test_mse = mean_squared_error(test_predictions, test['SalePrice'])\n",
    "\n",
    "train_rmse = np.sqrt(train_mse)\n",
    "test_rmse = np.sqrt(test_mse)\n",
    "\n",
    "print(train_rmse)\n",
    "print(test_rmse)"
   ]
  },
  {
   "cell_type": "markdown",
   "metadata": {},
   "source": [
    "**Cas multivarié**"
   ]
  },
  {
   "cell_type": "markdown",
   "metadata": {},
   "source": [
    "Entraînons un modèle à l'aide des colonnes suivantes du jeu de données pour voir comment les valeurs RMSE d'entraînement et de test sont améliorées: \n",
    "\n",
    "   * `Overall Cond`\n",
    "   * `Gr Liv Area`\n",
    "\n"
   ]
  },
  {
   "cell_type": "code",
   "execution_count": 17,
   "metadata": {},
   "outputs": [
    {
     "name": "stdout",
     "output_type": "stream",
     "text": [
      "56032.398015258674\n",
      "57066.90779448559\n"
     ]
    }
   ],
   "source": [
    "cols = ['Overall Cond', 'Gr Liv Area']\n",
    "lr.fit(train[cols], train['SalePrice'])\n",
    "train_predictions = lr.predict(train[cols])\n",
    "test_predictions = lr.predict(test[cols])\n",
    "\n",
    "train_rmse_2 = np.sqrt(mean_squared_error(train_predictions, train['SalePrice']))\n",
    "test_rmse_2 = np.sqrt(mean_squared_error(test_predictions, test['SalePrice']))\n",
    "\n",
    "print(train_rmse_2)\n",
    "print(test_rmse_2)"
   ]
  },
  {
   "cell_type": "markdown",
   "metadata": {},
   "source": [
    "## II.3. La régression logistique"
   ]
  },
  {
   "cell_type": "markdown",
   "metadata": {},
   "source": [
    "Chaque année, des lycéens et des étudiants postulent dans diverses universités à différents programmes. Chaque élève a un ensemble unique de résultats de test, de notes et de parcours. D'une manière ou d'une autre, les comités d'admission doivent décider quels candidats accepter ou rejeter de leur programme. Dans ce cas, un algorithme de classification binaire peut être utilisé pour accepter ou rejeter des candidats. Pour comprendre les concepts de classification, nous essaierons de prédire si un candidat sera admis à un programme d'études supérieures dans une université.\n",
    "\n",
    "Nous travaillerons avec un ensemble de données contenant des données sur 644 candidats avec les colonnes suivantes:\n",
    "\n",
    "* `gre`: score du candidat à l'examen du dossier d'études supérieures, un test généralisé destiné aux futurs étudiants diplômés. Le score varie de 200 à 800.\n",
    "* `gpa` :  moyenne pondérée cumulative - Continu entre 0,0 et 4,0.\n",
    "* `admit`: valeur binaire - Valeur binaire, 0 ou 1, où 1 signifie que le candidat a été admis au programme et 0 signifie que le candidat a été rejeté."
   ]
  },
  {
   "cell_type": "markdown",
   "metadata": {},
   "source": [
    "Bien que nous puissions utiliser à la fois les colonnes `gpa` et `gre` pour prédire la colonne `admit`, nous nous concentrerons sur l'utilisation de la colonne `gpa` uniquement pour simplifier les choses. \n",
    "Lisons les données dans Pandas et visualisons la relation entre `gpa` et `admit`."
   ]
  },
  {
   "cell_type": "code",
   "execution_count": 18,
   "metadata": {},
   "outputs": [
    {
     "data": {
      "image/png": "[encoded data removed]",
      "text/plain": [
       "<Figure size 432x288 with 1 Axes>"
      ]
     },
     "metadata": {
      "needs_background": "light"
     },
     "output_type": "display_data"
    }
   ],
   "source": [
    "import pandas as pd\n",
    "import matplotlib.pyplot as plt\n",
    "\n",
    "admissions = pd.read_csv(\"admissions.csv\")\n",
    "plt.scatter(admissions['gpa'], admissions['admit'])\n",
    "plt.show()"
   ]
  },
  {
   "cell_type": "markdown",
   "metadata": {},
   "source": [
    "### Fonction logistique"
   ]
  },
  {
   "cell_type": "code",
   "execution_count": 19,
   "metadata": {},
   "outputs": [
    {
     "data": {
      "image/png": "[encoded data removed]",
      "text/plain": [
       "<Figure size 432x288 with 1 Axes>"
      ]
     },
     "metadata": {
      "needs_background": "light"
     },
     "output_type": "display_data"
    }
   ],
   "source": [
    "import numpy as np\n",
    "\n",
    "# Logistic Function\n",
    "def logistic(x):\n",
    "    # np.exp(x) raises x to the exponential power, ie e^x. e ~= 2.71828\n",
    "    return np.exp(x)  / (1 + np.exp(x)) \n",
    "    \n",
    "# Generate 50 real values, evenly spaced, between -6 and 6.\n",
    "x = np.linspace(-6,6,50, dtype=float)\n",
    "\n",
    "# Transform each number in t using the logistic function.\n",
    "y = logistic(x)\n",
    "\n",
    "# Plot the resulting data.\n",
    "plt.plot(x, y)\n",
    "plt.ylabel(\"Probability\")\n",
    "plt.show()"
   ]
  },
  {
   "cell_type": "markdown",
   "metadata": {},
   "source": [
    "**Entrainement du modèle**"
   ]
  },
  {
   "cell_type": "markdown",
   "metadata": {},
   "source": [
    "L'entraînement d'un modèle de régression logistique dans scikit-learn est similaire à l'entraînement d'un modèle de régression linéaire, avec la principale différence que nous utilisons la classe `LogisticRegression` au lieu ` LinearRegression`. "
   ]
  },
  {
   "cell_type": "code",
   "execution_count": 20,
   "metadata": {
    "scrolled": false
   },
   "outputs": [
    {
     "data": {
      "text/plain": [
       "LogisticRegression()"
      ]
     },
     "execution_count": 20,
     "metadata": {},
     "output_type": "execute_result"
    }
   ],
   "source": [
    "from sklearn.linear_model import LogisticRegression\n",
    "logistic_model = LogisticRegression()\n",
    "logistic_model.fit(admissions[[\"gpa\"]], admissions[\"admit\"])"
   ]
  },
  {
   "cell_type": "markdown",
   "metadata": {},
   "source": [
    "Nous avons mentionné précédemment que la sortie d'un modèle de régression logistique est la probabilité que la ligne soit étiquetée True, ou dans notre cas 1. Nous pouvons utiliser le modèle entraîné pour renvoyer la probabilité prédite pour chaque ligne des données d'apprentissage.\n",
    "\n",
    "Pour renvoyer la probabilité prédite, on utilise la méthode `predict_proba`. Le seul paramètre requis pour cette méthode est la matrice `num_features` par `num_sample` des observations pour lesquelles scikit-learn doit renvoyer les probabilités prédites. Pour chaque ligne d'entrée, scikit-learn renverra un tableau NumPy avec 2 valeurs de probabilité:\n",
    "\n",
    "   * la probabilité que la ligne soit étiquetée 0,\n",
    "   * la probabilité que la ligne soit étiquetée 1.\n",
    "\n",
    "Puisque 0 et 1 sont les 2 seules catégories possibles et représentent la totalité de l'espace de résultats, ces 2 probabilités ajouteront toujours jusqu'à 1."
   ]
  },
  {
   "cell_type": "code",
   "execution_count": 21,
   "metadata": {},
   "outputs": [],
   "source": [
    "probabilities = logistic_model.predict_proba(admissions[[\"gpa\"]])\n",
    "# ---------Probability that the row belongs to label `0`.\n",
    "#probabilities[:,0]\n",
    "#----------- Probabililty that the row belongs to label `1`.\n",
    "#probabilities[:,1]"
   ]
  },
  {
   "cell_type": "markdown",
   "metadata": {},
   "source": [
    "**Exercice**\n",
    "\n",
    "1. Utiliser la méthode `predict_proba` de  `LogisticRegression`  pour renvoyer les probabilités prévues pour les données de la colonne `gpa`. Affecter les probabilités renvoyées à `pred_probs`.\n",
    "\n",
    "2. Créer et afficher un nuage de points à l'aide de la fonction `scatter` de  Matplotlib où:\n",
    "        * l'axe des abscisses correspond aux valeurs de la colonne `gpa`,\n",
    "        * l'axe des y est la probabilité d'être classé comme étiquette 1.\n",
    "\n"
   ]
  },
  {
   "cell_type": "code",
   "execution_count": 22,
   "metadata": {},
   "outputs": [
    {
     "data": {
      "text/plain": [
       "<matplotlib.collections.PathCollection at 0x19fddb18c10>"
      ]
     },
     "execution_count": 22,
     "metadata": {},
     "output_type": "execute_result"
    },
    {
     "data": {
      "image/png": "[encoded data removed]",
      "text/plain": [
       "<Figure size 432x288 with 1 Axes>"
      ]
     },
     "metadata": {
      "needs_background": "light"
     },
     "output_type": "display_data"
    }
   ],
   "source": [
    "logistic_model = LogisticRegression()\n",
    "logistic_model.fit(admissions[[\"gpa\"]], admissions[\"admit\"])\n",
    "\n",
    "pred_probs = logistic_model.predict_proba(admissions[[\"gpa\"]])\n",
    "plt.scatter(admissions[\"gpa\"], pred_probs[:,1])"
   ]
  },
  {
   "cell_type": "markdown",
   "metadata": {},
   "source": [
    "Le nuage de points suggère une relation linéaire entre les valeurs `gpa` et la probabilité d'être admis. En effet, la régression logistique n'est en réalité qu'une version adaptée de la régression linéaire pour les problèmes de classification. Elles permettent de saisir les relations linéaires entre les variables indépendantes et la variable dépendante.\n",
    "\n",
    "Utilisons maintenant la méthode `predict` pour renvoyer les prédictions d'étiquette pour chaque ligne de notre ensemble de données d'entraînement."
   ]
  },
  {
   "cell_type": "code",
   "execution_count": 23,
   "metadata": {},
   "outputs": [
    {
     "data": {
      "text/plain": [
       "<matplotlib.collections.PathCollection at 0x19fddb7a250>"
      ]
     },
     "execution_count": 23,
     "metadata": {},
     "output_type": "execute_result"
    },
    {
     "data": {
      "image/png": "[encoded data removed]",
      "text/plain": [
       "<Figure size 432x288 with 1 Axes>"
      ]
     },
     "metadata": {
      "needs_background": "light"
     },
     "output_type": "display_data"
    }
   ],
   "source": [
    "logistic_model = LogisticRegression()\n",
    "logistic_model.fit(admissions[[\"gpa\"]], admissions[\"admit\"])\n",
    "fitted_labels = logistic_model.predict(admissions[[\"gpa\"]])\n",
    "plt.scatter(admissions[\"gpa\"], fitted_labels)"
   ]
  }
 ],
 "metadata": {
  "kernelspec": {
   "display_name": "Python 3",
   "language": "python",
   "name": "python3"
  },
  "language_info": {
   "codemirror_mode": {
    "name": "ipython",
    "version": 3
   },
   "file_extension": ".py",
   "mimetype": "text/x-python",
   "name": "python",
   "nbconvert_exporter": "python",
   "pygments_lexer": "ipython3",
   "version": "3.7.4"
  }
 },
 "nbformat": 4,
 "nbformat_minor": 4
}
